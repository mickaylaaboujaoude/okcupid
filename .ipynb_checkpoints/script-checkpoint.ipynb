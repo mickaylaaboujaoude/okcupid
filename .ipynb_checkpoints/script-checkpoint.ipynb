{
 "cells": [
  {
   "cell_type": "markdown",
   "id": "97de505c",
   "metadata": {},
   "source": [
    "### Import Python packages and read csv in to Pandas dataframe"
   ]
  },
  {
   "cell_type": "code",
   "execution_count": 1,
   "id": "5827aebb",
   "metadata": {},
   "outputs": [],
   "source": [
    "import pandas as pd\n",
    "import numpy as np\n",
    "from matplotlib import pyplot as plt\n",
    "import seaborn as sns\n",
    "\n",
    "\n",
    "\n",
    "\n",
    "df = pd.read_csv('../original_data/okcupid/okcupid_profiles.csv')\n",
    "#df = pd.read_csv('../original_data/okcupid/okcupid_profiles.csv', index_col = False)\n",
    "\n",
    "# Do not do this one (index_col =0). It removes age, etc.\n",
    "# I don't remember the details. Just don't use it in this context\n",
    "#df = pd.read_csv('../original_data/okcupid/okcupid_profiles.csv', index_col = 0)"
   ]
  },
  {
   "cell_type": "markdown",
   "id": "772ddbb1",
   "metadata": {},
   "source": [
    "### On the index\n"
   ]
  },
  {
   "cell_type": "markdown",
   "id": "bc6204a3",
   "metadata": {},
   "source": [
    "###### Initially (days ago):\n",
    "I don't think I need to reset the index because there is not an index column in the csv, so pd will add one upon reading.\n",
    "\n",
    "###### 10/1/21 2:45pm ish\n",
    "I left off messing around with index of the df. I noticed the df doesn't have an \"id\" column, which might be nice for groupby so i was trying to make one\n",
    "\n",
    "I think the index exists regardless of whether there is a literal column in the dataframe for the index?\n",
    "\n",
    "https://pandas.pydata.org/pandas-docs/dev/reference/indexing.html\n",
    "\n",
    "https://pandas.pydata.org/pandas-docs/stable/user_guide/indexing.html\n",
    "\n",
    "https://towardsdatascience.com/pandas-index-explained-b131beaf6f7b\n",
    "\n",
    "While reading the towardsdatacience article, I noticed they were getting these pretty table output when they called dataframe.head() in their notebook. So now I'm learning how to get the pretty table output, and I think it might have something to do with IPython. So I'm gonna work on understanding IPython now. And figuring out how I can get the nice pretty table display. \n",
    "\n",
    "https://ipython.readthedocs.io/en/stable/interactive/tutorial.html\n",
    "\n",
    "This was suggested by Codecademy for \"pretty display.....#Displays all variables and statements on its own line\" and I have no idea how it is helping me. \n",
    "\n",
    "from IPython.core.interactiveshell import InteractiveShell\n",
    "InteractiveShell.ast_node_interactivity = \"all\"\n",
    "https://www.codecademy.com/paths/data-analyst/tracks/dacp-python-fundamentals/modules/dscp-getting-started-off-platform/articles/getting-more-out-of-jupyter-notebook\n",
    "\n",
    "###### 10/1/21 4:06pm \n",
    "I give up on this effort to get the pretty df.head() table display. I think it might have something to do wtih widgets. Every article I find when I search terms related to \"pretty table display jupyter notebook\" seem to be not related. Like they already have the pretty tables and are talking about resizing them or something. \n",
    "It might also have something to do with display\n",
    "\n",
    "https://ipywidgets.readthedocs.io/en/latest/\n",
    "\n",
    "https://stackoverflow.com/questions/26873127/show-dataframe-as-table-in-ipython-notebook\n",
    "\n",
    "https://songhuiming.github.io/pages/2017/04/02/jupyter-and-pandas-display/\n",
    "\n",
    "Anyway, I wanted an id column whose values are 0 - # of dataframe rows - 1 and increments by 1. I thought maybe looking up index might help me get it. \n",
    "\n",
    "But now I'm just going to make an id column as follows:"
   ]
  },
  {
   "cell_type": "code",
   "execution_count": null,
   "id": "f269b019",
   "metadata": {},
   "outputs": [],
   "source": [
    "id_column = pd.Series([x for x in range (0, len(df['age']), 1)])\n",
    "#i could use a lamda function or i could do list comprehension \n",
    "\n",
    "print(id_column.min())\n",
    "print(id_column.max())\n",
    "\n",
    "df['id'] = id_column\n",
    "#print(df.info())"
   ]
  },
  {
   "cell_type": "code",
   "execution_count": null,
   "id": "5892daac",
   "metadata": {},
   "outputs": [],
   "source": [
    "# Also, on my journey, I did learn this command\n",
    "print(\"Shape of data{}\".format(df.shape))"
   ]
  },
  {
   "cell_type": "markdown",
   "id": "e3a09081",
   "metadata": {},
   "source": [
    "### General dataframe info"
   ]
  },
  {
   "cell_type": "code",
   "execution_count": null,
   "id": "3e3f190d",
   "metadata": {},
   "outputs": [],
   "source": [
    "print(df.info())\n",
    "print(len(df.drugs))\n",
    "#print(df.columns)\n",
    "#print(df.dtypes)"
   ]
  },
  {
   "cell_type": "code",
   "execution_count": null,
   "id": "3a8649a4",
   "metadata": {},
   "outputs": [],
   "source": [
    "print(df.head()) \n",
    "# I put this in a separate cell because sometimes I like to run commands without this one. "
   ]
  },
  {
   "cell_type": "markdown",
   "id": "98143232",
   "metadata": {},
   "source": [
    "### Checking what the possible values of sex variable are"
   ]
  },
  {
   "cell_type": "code",
   "execution_count": null,
   "id": "005996d5",
   "metadata": {},
   "outputs": [],
   "source": [
    "print(df.sex.unique())"
   ]
  },
  {
   "cell_type": "markdown",
   "id": "36ee0252",
   "metadata": {},
   "source": [
    "### Check for duplicates"
   ]
  },
  {
   "cell_type": "code",
   "execution_count": null,
   "id": "f8768ac5",
   "metadata": {},
   "outputs": [],
   "source": [
    "duplicates = df.duplicated()\n",
    "print(duplicates.value_counts())"
   ]
  },
  {
   "cell_type": "markdown",
   "id": "78ed7815",
   "metadata": {},
   "source": [
    "There are no duplicates."
   ]
  },
  {
   "cell_type": "markdown",
   "id": "2b59af7b",
   "metadata": {},
   "source": [
    "### Check for missing"
   ]
  },
  {
   "cell_type": "code",
   "execution_count": null,
   "id": "b999c878",
   "metadata": {},
   "outputs": [],
   "source": [
    "# I can see from df.info() that some variables but missing values, but I prefer to also use these commands to check\n",
    "# This tells us if there are null values somewhere in the df\n",
    "print(df.isnull().values.any())\n",
    "\n",
    "# This prints out the sum of null values by column \n",
    "print(df.isnull().sum())"
   ]
  },
  {
   "cell_type": "markdown",
   "id": "7ceca722",
   "metadata": {},
   "source": [
    "There are misssing values in some columns, and I will address it later/as it comes up for analyses."
   ]
  },
  {
   "cell_type": "markdown",
   "id": "4dcfe9cd",
   "metadata": {},
   "source": [
    "### Messing around"
   ]
  },
  {
   "cell_type": "code",
   "execution_count": 8,
   "id": "dfc90584",
   "metadata": {},
   "outputs": [
    {
     "name": "stdout",
     "output_type": "stream",
     "text": [
      "54\n",
      "int64\n",
      "18\n",
      "110\n"
     ]
    }
   ],
   "source": [
    "print(df['age'].nunique())\n",
    "print(df['age'].dtypes)\n",
    "print(df['age'].min())\n",
    "print(df['age'].max())\n",
    "# the max age is 110... someone was probably messing around "
   ]
  },
  {
   "cell_type": "markdown",
   "id": "98c94fd7",
   "metadata": {},
   "source": [
    "I had a hunch that these two would produce essentially the same output (a one way frequency table)\n",
    "\n",
    "```\n",
    "print(pd.crosstab(index=df['age'], columns='count'))\n",
    "print(df.groupby('age').id.count().reset_index().rename(columns={\"id\": \"counts\"}))\n",
    "```"
   ]
  },
  {
   "cell_type": "code",
   "execution_count": 9,
   "id": "b8c55c1f",
   "metadata": {
    "scrolled": true
   },
   "outputs": [
    {
     "name": "stdout",
     "output_type": "stream",
     "text": [
      "col_0  count\n",
      "age         \n",
      "18       309\n",
      "19       611\n",
      "20       953\n",
      "21      1282\n",
      "22      1934\n",
      "23      2592\n",
      "24      3242\n",
      "25      3531\n",
      "26      3724\n",
      "27      3685\n",
      "28      3583\n",
      "29      3295\n",
      "30      3149\n",
      "31      2735\n",
      "32      2587\n",
      "33      2206\n",
      "34      1902\n",
      "35      1755\n",
      "36      1583\n",
      "37      1427\n",
      "38      1330\n",
      "39      1172\n",
      "40      1030\n",
      "41       980\n",
      "42      1072\n",
      "43       858\n",
      "44       708\n",
      "45       643\n",
      "46       578\n",
      "47       529\n",
      "48       481\n",
      "49       459\n",
      "50       437\n",
      "51       350\n",
      "52       344\n",
      "53       252\n",
      "54       267\n",
      "55       265\n",
      "56       271\n",
      "57       256\n",
      "58       197\n",
      "59       221\n",
      "60       195\n",
      "61       176\n",
      "62       167\n",
      "63       138\n",
      "64       113\n",
      "65       109\n",
      "66       105\n",
      "67        66\n",
      "68        59\n",
      "69        31\n",
      "109        1\n",
      "110        1\n"
     ]
    }
   ],
   "source": [
    "print(pd.crosstab(index=df['age'], columns='count'))"
   ]
  },
  {
   "cell_type": "code",
   "execution_count": null,
   "id": "55bd84ab",
   "metadata": {
    "scrolled": true
   },
   "outputs": [],
   "source": [
    "print(df.groupby('age').id.count().reset_index().rename(columns={\"id\": \"counts\"}))"
   ]
  },
  {
   "cell_type": "markdown",
   "id": "7b6e31aa",
   "metadata": {},
   "source": [
    "I want to make a histogram with age. <br>\n",
    "The first thing I want to do is check to see if the values for age go from 18 - 110 continuously, or if there is a integer in there that is missing<br>\n",
    "I don't know if this part is necessary, but I want to do it anyways. "
   ]
  },
  {
   "cell_type": "code",
   "execution_count": null,
   "id": "9450daae",
   "metadata": {},
   "outputs": [],
   "source": [
    "#print(df['age'].unique())\n",
    "\n",
    "# Starting dataframe\n",
    "age_freq = df.groupby('age').id.count().reset_index().rename(columns={\"id\": \"counts\"})\n",
    "print(type(age_freq))\n",
    "print(age_freq.columns)\n",
    "\n",
    "# Pull the list of ages only \n",
    "ages_uniqarray = age_freq['age']\n",
    "print(type(ages_uniqarray))\n",
    "# Change the type to a numpy array\n",
    "# because I want to do the comparisons with numpy\n",
    "ages_uniqarray = np.array(ages_uniqarray)\n",
    "print(type(ages_uniqarray))\n",
    "\n",
    "# Creating the comparison array\n",
    "compare_array = np.array([x for x in range(18, 111, 1)])\n",
    "print(compare_array.min())\n",
    "print(compare_array.max())\n",
    "\n",
    "\n",
    "# Check to see if ages contained in ages_uniqarray \n",
    "# are identical to the ages in compare_array\n",
    "# ages_uniqarray compare_array\n",
    "\n",
    "# numpy.array_equal \n",
    "# will return True if two arrays have the same shape and elements, \n",
    "# False otherwise\n",
    "\n",
    "# first just curious to learn more about the two arrays\n",
    "print(\"ages_uniqarray\")\n",
    "print(ages_uniqarray.ndim)\n",
    "print(ages_uniqarray.size)\n",
    "print(ages_uniqarray.shape)\n",
    "\n",
    "print(\"compare_array\")\n",
    "print(compare_array.ndim)\n",
    "print(compare_array.size)\n",
    "print(compare_array.shape)\n",
    "\n",
    "# ndarray.ndim will tell you the number of axes, or dimensions, of the array.\n",
    "\n",
    "# ndarray.size will tell you the total number of elements of the array. \n",
    "# This is the product of the elements of the array’s shape.\n",
    "\n",
    "# ndarray.shape will display a tuple of integers that indicate the number of elements stored \n",
    "# along each dimension of the array. \n",
    "# If, for example, you have a 2-D array with 2 rows and 3 columns, the shape of your array is (2, 3).\n",
    "\n",
    "print(110 - 17)\n",
    "\n",
    "np.array_equal(ages_uniqarray, compare_array)"
   ]
  },
  {
   "cell_type": "markdown",
   "id": "c5c13032",
   "metadata": {},
   "source": [
    "Actually using .ndim, .size, .shape, before even doing numpy.array_equal, tells me that it does not appear that there is an age for every int between 18 - 110 inclusive.\n",
    "\n",
    "I don't know if this was necessary. I'm going to make hisograms for age now anyways. But I was curious. And it was a fun learning exercise."
   ]
  },
  {
   "cell_type": "markdown",
   "id": "9369c31f",
   "metadata": {},
   "source": [
    "#### Binning ages\n",
    "JUST DROPPING THIS HERE FOR A LITTLE BIT<br>\n",
    "This is code for binning that I can use later if I want to make bins\n",
    "```\n",
    "# Create bins\n",
    "bins = [x for x in range(10, 90, 5)]\n",
    "print(bins)\n",
    "census['binned_age'] = pd.cut(census['age'], bins)\n",
    "print(census['binned_age'].dtypes)\n",
    "print(census[['binned_age', 'age']].head())\n",
    "print(len(census['age']))\n",
    "print(pd.crosstab(index=census['binned_age'], columns='count'))\n",
    "print(census.head())\n",
    "```\n"
   ]
  },
  {
   "cell_type": "markdown",
   "id": "af3cb7af",
   "metadata": {},
   "source": [
    "#### Histogram for age"
   ]
  },
  {
   "cell_type": "code",
   "execution_count": 20,
   "id": "13f06408",
   "metadata": {},
   "outputs": [
    {
     "name": "stdout",
     "output_type": "stream",
     "text": [
      "<class 'numpy.ndarray'>\n",
      "18\n",
      "110\n",
      "(array([   0,    0,    0,    0,    0,    0,    0,    0,    0,    0,    0,\n",
      "          0,    0,    0,    0,    0,    0,    0,  309,  611,  953, 1282,\n",
      "       1934, 2592, 3242, 3531, 3724, 3685, 3583, 3295, 3149, 2735, 2587,\n",
      "       2206, 1902, 1755, 1583, 1427, 1330, 1172, 1030,  980, 1072,  858,\n",
      "        708,  643,  578,  529,  481,  459,  437,  350,  344,  252,  267,\n",
      "        265,  271,  256,  197,  221,  195,  176,  167,  138,  113,  109,\n",
      "        105,   66,   59,   31,    0,    0,    0,    0,    0,    0,    0,\n",
      "          0,    0,    0,    0,    0,    0,    0,    0,    0,    0,    0,\n",
      "          0,    0,    0,    0,    0,    0,    0,    0,    0,    0,    0,\n",
      "          0,    0,    0,    0,    0,    0,    0,    0,    0,    0,    1,\n",
      "          1], dtype=int64), array([  0.,   1.,   2.,   3.,   4.,   5.,   6.,   7.,   8.,   9.,  10.,\n",
      "        11.,  12.,  13.,  14.,  15.,  16.,  17.,  18.,  19.,  20.,  21.,\n",
      "        22.,  23.,  24.,  25.,  26.,  27.,  28.,  29.,  30.,  31.,  32.,\n",
      "        33.,  34.,  35.,  36.,  37.,  38.,  39.,  40.,  41.,  42.,  43.,\n",
      "        44.,  45.,  46.,  47.,  48.,  49.,  50.,  51.,  52.,  53.,  54.,\n",
      "        55.,  56.,  57.,  58.,  59.,  60.,  61.,  62.,  63.,  64.,  65.,\n",
      "        66.,  67.,  68.,  69.,  70.,  71.,  72.,  73.,  74.,  75.,  76.,\n",
      "        77.,  78.,  79.,  80.,  81.,  82.,  83.,  84.,  85.,  86.,  87.,\n",
      "        88.,  89.,  90.,  91.,  92.,  93.,  94.,  95.,  96.,  97.,  98.,\n",
      "        99., 100., 101., 102., 103., 104., 105., 106., 107., 108., 109.,\n",
      "       110., 111.]))\n"
     ]
    },
    {
     "data": {
      "image/png": "[encoded data removed]",
      "text/plain": [
       "<Figure size 640x480 with 1 Axes>"
      ]
     },
     "metadata": {},
     "output_type": "display_data"
    }
   ],
   "source": [
    "age_array = df['age'].values\n",
    "print(type(age_array))\n",
    "\n",
    "print(age_array.min())\n",
    "print(age_array.max())\n",
    "\n",
    "\n",
    "age_hist1 = np.histogram(age_array, range=(0, 111), bins=111)\n",
    "print(age_hist1)\n",
    "\n",
    "ages_hist2 = plt.hist(age_array, range=(0, 111), bins=111)\n",
    "plt.show()"
   ]
  },
  {
   "cell_type": "markdown",
   "id": "ce2d33d4",
   "metadata": {},
   "source": [
    "I know that even though it's silly and they are outliers, there is one person for whom age = 109 and one person for whom age = 110.\n",
    "\n",
    "I've tried several values for range and bins.\n",
    "\n",
    "I'm confused as to why 109 and 110 are not showing up on any variations of histogram."
   ]
  },
  {
   "cell_type": "markdown",
   "id": "9c7eb7db",
   "metadata": {},
   "source": [
    "### Income "
   ]
  },
  {
   "cell_type": "code",
   "execution_count": null,
   "id": "034cccfc",
   "metadata": {},
   "outputs": [],
   "source": [
    "# Explore the income variable here\n",
    "print(df.income.isnull().sum())\n",
    "# While this tells us there are no missing in income, -1 indicates the person chose not to provide income\n",
    "\n",
    "print(df.income.nunique())\n",
    "print(df.income.unique())\n",
    "# 0ne-way freq table of income\n",
    "print(pd.crosstab(index=df.income, columns='count'))\n",
    "\n",
    "# Percent -1 AKA missing\n",
    "print((48442/59946)*100)\n",
    "\n",
    "# Count of rows where income != -1\n",
    "print(59946 - 48442)"
   ]
  },
  {
   "cell_type": "markdown",
   "id": "769bd658",
   "metadata": {},
   "source": [
    "While print(df.income.isnull().sum()) tells us there are no missing income values, -1 indicates the person chose not to provide an income value ([via okcupid_codebook_revised.txt](https://github.com/rudeboybert/JSE_OkCupid/blob/master/okcupid_codebook_revised.txt)).\n",
    "We can consider -1 values as missing values. \n",
    "From the one-way frequency table of income, we can see that 80% of respondents did not provide an income value. So the income variable is missing ~80% of responses. This makes the income variable less useful. \n",
    "\n",
    "There are situations where I could justify replacing missing numerical data with an average or some other value, but replacing 80% of income data with fill-ins for missing values will affect the integrity of the data. I don't think anything usefull would be gained from such an endeavor.\n",
    "\n",
    "I can do income-related analyses with the ~20% of respondents who did provide an income value, but I cannot use these analyses to make statements about the entire 59946 respondents as a whole. I will do analyses with the ~20% of respondents who did provide an income value for the purpose of demonstrating my quantitative data analysis skills. (e.g. a histogram of income responses)\n",
    "\n",
    "Note that the income responses are already discrete as opposed to continuous. \n",
    "\n",
    "For the record, as an OKCupid user (in 2014 but not in 2015), I have no recollection of OKCupid ever asking for income data, but perhaps I just forgot or overlooked that question.\n",
    "\n",
    "Count of rows where income != -1 is 11504"
   ]
  },
  {
   "cell_type": "markdown",
   "id": "157452ba",
   "metadata": {},
   "source": [
    "#### Create a new dataframe that has only the rows where income != -1"
   ]
  },
  {
   "cell_type": "code",
   "execution_count": null,
   "id": "d93402ab",
   "metadata": {
    "scrolled": false
   },
   "outputs": [],
   "source": [
    "# Create a new dataframe that has only the rows where income != -1\n",
    "df_hasincome = df[df.income != -1]\n",
    "print(df_hasincome.info())\n",
    "print(len(df_hasincome.age))\n",
    "print(df_hasincome.columns)\n",
    "print(df_hasincome.dtypes)"
   ]
  },
  {
   "cell_type": "code",
   "execution_count": null,
   "id": "10e66026",
   "metadata": {},
   "outputs": [],
   "source": [
    "# This tells us there are null values somewhere in the df\n",
    "print(\"(df_hasincome.isnull().values.any())\")\n",
    "print(df_hasincome.isnull().values.any())\n",
    "\n",
    "# This prints out the sum of null values by column \n",
    "print(\"(df_hasincome.isnull().sum())\")\n",
    "print(df_hasincome.isnull().sum())"
   ]
  },
  {
   "cell_type": "markdown",
   "id": "404a7c3f",
   "metadata": {},
   "source": [
    "Fun thing: Noticed the 3 people for whom a response to height was missing were not included in this data set <br>"
   ]
  },
  {
   "cell_type": "code",
   "execution_count": null,
   "id": "4e665904",
   "metadata": {},
   "outputs": [],
   "source": [
    "print(df_hasincome.income.nunique())\n",
    "print(df_hasincome.income.unique())\n",
    "# 0ne-way freq table of income\n",
    "print(pd.crosstab(index=df_hasincome.income, columns='count'))"
   ]
  },
  {
   "cell_type": "markdown",
   "id": "a5f87a6c",
   "metadata": {},
   "source": [
    "I wonder if the income distribution of respondents is patterned similarly to that of the San Francisco income distribution at the time of collection. I'm putting this here because it is a thought I had at this point in the analysis, and it's my analysis. I would need to confirm the year of the data collection. I think Kaggle said 2015, but the data owner GitHub said \"2010s\". I will have to search data owner GitHub for a year later. "
   ]
  },
  {
   "cell_type": "markdown",
   "id": "0f98fc8c",
   "metadata": {},
   "source": [
    "Maybe it is because it is late and I am tired, but now I'm wondering if since the income data is already binned, is it considered categorical? Would a hisogram be appropriate? This is definitely me being tired and a sign that it is time for bed. "
   ]
  },
  {
   "cell_type": "markdown",
   "id": "40f35e10",
   "metadata": {},
   "source": [
    "### Notes to self for later\n",
    "\n",
    "Best rounding practices? <br>"
   ]
  },
  {
   "cell_type": "markdown",
   "id": "81daca24",
   "metadata": {},
   "source": [
    "### Possible things I can do with data:\n",
    "\n",
    "make sure you're using the words \"value\" and \"variable\" right <br>\n",
    "\n",
    "deal with missing values <br>\n",
    "\n",
    "1. split the sex column into two columns: male and female OR I change the sex column to be male = 1 femaile = 0\n",
    "2. maybe take advantage of age being a number to do some quantitative analyses \n",
    "3. make demographics tables (including treating age as a categorical variable)\n",
    "4. I can potentially do quantitative analyses with income \n",
    "5. This is your reminder to ADD HYPERLINKS TO read_me.md LATER <br>\n",
    "to be continued"
   ]
  },
  {
   "cell_type": "code",
   "execution_count": null,
   "id": "11fc2264",
   "metadata": {},
   "outputs": [],
   "source": []
  }
 ],
 "metadata": {
  "kernelspec": {
   "display_name": "Python 3",
   "language": "python",
   "name": "python3"
  },
  "language_info": {
   "codemirror_mode": {
    "name": "ipython",
    "version": 3
   },
   "file_extension": ".py",
   "mimetype": "text/x-python",
   "name": "python",
   "nbconvert_exporter": "python",
   "pygments_lexer": "ipython3",
   "version": "3.9.5"
  }
 },
 "nbformat": 4,
 "nbformat_minor": 5
}
