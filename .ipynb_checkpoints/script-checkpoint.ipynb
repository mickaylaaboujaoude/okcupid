{
 "cells": [
  {
   "cell_type": "code",
   "execution_count": null,
   "id": "5827aebb",
   "metadata": {},
   "outputs": [],
   "source": [
    "import pandas as pd\n",
    "import numpy as np\n",
    "import matplotlib as plt\n",
    "import seaborn as sns\n",
    "\n",
    "df = pd.read_csv('../original_data/okcupid/okcupid_profiles.csv')\n",
    "\n"
   ]
  },
  {
   "cell_type": "code",
   "execution_count": null,
   "id": "3e3f190d",
   "metadata": {},
   "outputs": [],
   "source": [
    "print(df.info())\n",
    "print(len(df.age))\n",
    "print(df.columns)\n",
    "print(df.dtypes)"
   ]
  },
  {
   "cell_type": "code",
   "execution_count": null,
   "id": "3a8649a4",
   "metadata": {},
   "outputs": [],
   "source": [
    "print(df.head())"
   ]
  },
  {
   "cell_type": "code",
   "execution_count": null,
   "id": "005996d5",
   "metadata": {},
   "outputs": [],
   "source": [
    "print(df.sex.unique())"
   ]
  },
  {
   "cell_type": "code",
   "execution_count": null,
   "id": "23912d47",
   "metadata": {},
   "outputs": [],
   "source": [
    "# Do I need to reset the index? Is there an index? "
   ]
  },
  {
   "cell_type": "code",
   "execution_count": null,
   "id": "f8768ac5",
   "metadata": {},
   "outputs": [],
   "source": [
    "# Check for duplicates\n",
    "duplicates = df.duplicated()\n",
    "print(duplicates.value_counts())\n",
    "# There are no duplicates"
   ]
  },
  {
   "cell_type": "code",
   "execution_count": null,
   "id": "b999c878",
   "metadata": {},
   "outputs": [],
   "source": [
    "# Check for missing\n",
    "#this tells us there are null values somewhere in the df\n",
    "print(df.isnull().values.any())\n",
    "\n",
    "# this prints out the sum of null values by column \n",
    "print(df.isnull().sum())"
   ]
  },
  {
   "cell_type": "code",
   "execution_count": null,
   "id": "034cccfc",
   "metadata": {},
   "outputs": [],
   "source": [
    "# Explore the income variable here\n",
    "print(df.income.isnull().sum())\n",
    "print(df.income.nunique())\n",
    "print(df.income.unique())"
   ]
  },
  {
   "cell_type": "code",
   "execution_count": null,
   "id": "f8ca60f2",
   "metadata": {},
   "outputs": [],
   "source": [
    "# possible things I can do with data:\n",
    "# make sure you're using the words \"value\" and \"variable\" right\n",
    "# do print(df.info())\n",
    "# check for missing values\n",
    "# check for duplicates\n",
    "# 1) split the sex column into two columns: male and female OR I change the sex column to be male = 1 femaile = 0\n",
    "# 2) maybe take advantage of age being a number to do some quantitative analyses \n",
    "# 3) make demographics tables (including treating age as a categorical variable)\n",
    "# 4) I can potentially do quantitative analyses with income \n",
    "# to be continued"
   ]
  }
 ],
 "metadata": {
  "kernelspec": {
   "display_name": "Python 3",
   "language": "python",
   "name": "python3"
  },
  "language_info": {
   "codemirror_mode": {
    "name": "ipython",
    "version": 3
   },
   "file_extension": ".py",
   "mimetype": "text/x-python",
   "name": "python",
   "nbconvert_exporter": "python",
   "pygments_lexer": "ipython3",
   "version": "3.9.5"
  }
 },
 "nbformat": 4,
 "nbformat_minor": 5
}
