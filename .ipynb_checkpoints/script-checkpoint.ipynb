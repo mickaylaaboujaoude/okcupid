{
 "cells": [
  {
   "cell_type": "markdown",
   "id": "97de505c",
   "metadata": {},
   "source": [
    "### Import Python packages and read csv in to Pandas dataframe"
   ]
  },
  {
   "cell_type": "code",
   "execution_count": 1,
   "id": "5827aebb",
   "metadata": {},
   "outputs": [],
   "source": [
    "import pandas as pd\n",
    "import numpy as np\n",
    "import matplotlib as plt\n",
    "import seaborn as sns\n",
    "\n",
    "df = pd.read_csv('../original_data/okcupid/okcupid_profiles.csv')"
   ]
  },
  {
   "cell_type": "markdown",
   "id": "cfacba29",
   "metadata": {},
   "source": [
    "I don't think I need to reset the index because there is not an index column in the csv, so pd will add one upon reading."
   ]
  },
  {
   "cell_type": "markdown",
   "id": "e3a09081",
   "metadata": {},
   "source": [
    "### General dataframe info"
   ]
  },
  {
   "cell_type": "code",
   "execution_count": 2,
   "id": "3e3f190d",
   "metadata": {},
   "outputs": [
    {
     "name": "stdout",
     "output_type": "stream",
     "text": [
      "<class 'pandas.core.frame.DataFrame'>\n",
      "RangeIndex: 59946 entries, 0 to 59945\n",
      "Data columns (total 31 columns):\n",
      " #   Column       Non-Null Count  Dtype  \n",
      "---  ------       --------------  -----  \n",
      " 0   age          59946 non-null  int64  \n",
      " 1   status       59946 non-null  object \n",
      " 2   sex          59946 non-null  object \n",
      " 3   orientation  59946 non-null  object \n",
      " 4   body_type    54650 non-null  object \n",
      " 5   diet         35551 non-null  object \n",
      " 6   drinks       56961 non-null  object \n",
      " 7   drugs        45866 non-null  object \n",
      " 8   education    53318 non-null  object \n",
      " 9   ethnicity    54266 non-null  object \n",
      " 10  height       59943 non-null  float64\n",
      " 11  income       59946 non-null  int64  \n",
      " 12  job          51748 non-null  object \n",
      " 13  last_online  59946 non-null  object \n",
      " 14  location     59946 non-null  object \n",
      " 15  offspring    24385 non-null  object \n",
      " 16  pets         40025 non-null  object \n",
      " 17  religion     39720 non-null  object \n",
      " 18  sign         48890 non-null  object \n",
      " 19  smokes       54434 non-null  object \n",
      " 20  speaks       59896 non-null  object \n",
      " 21  essay0       54458 non-null  object \n",
      " 22  essay1       52374 non-null  object \n",
      " 23  essay2       50308 non-null  object \n",
      " 24  essay3       48470 non-null  object \n",
      " 25  essay4       49409 non-null  object \n",
      " 26  essay5       49096 non-null  object \n",
      " 27  essay6       46175 non-null  object \n",
      " 28  essay7       47495 non-null  object \n",
      " 29  essay8       40721 non-null  object \n",
      " 30  essay9       47343 non-null  object \n",
      "dtypes: float64(1), int64(2), object(28)\n",
      "memory usage: 14.2+ MB\n",
      "None\n",
      "59946\n",
      "Index(['age', 'status', 'sex', 'orientation', 'body_type', 'diet', 'drinks',\n",
      "       'drugs', 'education', 'ethnicity', 'height', 'income', 'job',\n",
      "       'last_online', 'location', 'offspring', 'pets', 'religion', 'sign',\n",
      "       'smokes', 'speaks', 'essay0', 'essay1', 'essay2', 'essay3', 'essay4',\n",
      "       'essay5', 'essay6', 'essay7', 'essay8', 'essay9'],\n",
      "      dtype='object')\n",
      "age              int64\n",
      "status          object\n",
      "sex             object\n",
      "orientation     object\n",
      "body_type       object\n",
      "diet            object\n",
      "drinks          object\n",
      "drugs           object\n",
      "education       object\n",
      "ethnicity       object\n",
      "height         float64\n",
      "income           int64\n",
      "job             object\n",
      "last_online     object\n",
      "location        object\n",
      "offspring       object\n",
      "pets            object\n",
      "religion        object\n",
      "sign            object\n",
      "smokes          object\n",
      "speaks          object\n",
      "essay0          object\n",
      "essay1          object\n",
      "essay2          object\n",
      "essay3          object\n",
      "essay4          object\n",
      "essay5          object\n",
      "essay6          object\n",
      "essay7          object\n",
      "essay8          object\n",
      "essay9          object\n",
      "dtype: object\n"
     ]
    }
   ],
   "source": [
    "print(df.info())\n",
    "print(len(df.age))\n",
    "print(df.columns)\n",
    "print(df.dtypes)"
   ]
  },
  {
   "cell_type": "code",
   "execution_count": 3,
   "id": "3a8649a4",
   "metadata": {},
   "outputs": [
    {
     "name": "stdout",
     "output_type": "stream",
     "text": [
      "   age     status sex orientation       body_type               diet  \\\n",
      "0   22     single   m    straight  a little extra  strictly anything   \n",
      "1   35     single   m    straight         average       mostly other   \n",
      "2   38  available   m    straight            thin           anything   \n",
      "3   23     single   m    straight            thin         vegetarian   \n",
      "4   29     single   m    straight        athletic                NaN   \n",
      "\n",
      "     drinks      drugs                          education  \\\n",
      "0  socially      never      working on college/university   \n",
      "1     often  sometimes              working on space camp   \n",
      "2  socially        NaN     graduated from masters program   \n",
      "3  socially        NaN      working on college/university   \n",
      "4  socially      never  graduated from college/university   \n",
      "\n",
      "             ethnicity  ...  \\\n",
      "0         asian, white  ...   \n",
      "1                white  ...   \n",
      "2                  NaN  ...   \n",
      "3                white  ...   \n",
      "4  asian, black, other  ...   \n",
      "\n",
      "                                              essay0  \\\n",
      "0  about me:  i would love to think that i was so...   \n",
      "1  i am a chef: this is what that means. 1. i am ...   \n",
      "2  i'm not ashamed of much, but writing public te...   \n",
      "3          i work in a library and go to school. . .   \n",
      "4  hey how's it going? currently vague on the pro...   \n",
      "\n",
      "                                              essay1  \\\n",
      "0  currently working as an international agent fo...   \n",
      "1  dedicating everyday to being an unbelievable b...   \n",
      "2  i make nerdy software for musicians, artists, ...   \n",
      "3          reading things written by old dead people   \n",
      "4                         work work work work + play   \n",
      "\n",
      "                                              essay2  \\\n",
      "0  making people laugh. ranting about a good salt...   \n",
      "1  being silly. having ridiculous amonts of fun w...   \n",
      "2  improvising in different contexts. alternating...   \n",
      "3  playing synthesizers and organizing books acco...   \n",
      "4  creating imagery to look at: http://bagsbrown....   \n",
      "\n",
      "                                              essay3  \\\n",
      "0  the way i look. i am a six foot half asian, ha...   \n",
      "1                                                NaN   \n",
      "2  my large jaw and large glasses are the physica...   \n",
      "3                  socially awkward but i do my best   \n",
      "4            i smile a lot and my inquisitive nature   \n",
      "\n",
      "                                              essay4  \\\n",
      "0  books: absurdistan, the republic, of mice and ...   \n",
      "1  i am die hard christopher moore fan. i don't r...   \n",
      "2  okay this is where the cultural matrix gets so...   \n",
      "3  bataille, celine, beckett. . . lynch, jarmusch...   \n",
      "4  music: bands, rappers, musicians at the moment...   \n",
      "\n",
      "                                              essay5  \\\n",
      "0                  food. water. cell phone. shelter.   \n",
      "1  delicious porkness in all of its glories. my b...   \n",
      "2  movement conversation creation contemplation t...   \n",
      "3                                                NaN   \n",
      "4                                                NaN   \n",
      "\n",
      "                        essay6  \\\n",
      "0  duality and humorous things   \n",
      "1                          NaN   \n",
      "2                          NaN   \n",
      "3   cats and german philosophy   \n",
      "4                          NaN   \n",
      "\n",
      "                                              essay7  \\\n",
      "0  trying to find someone to hang out with. i am ...   \n",
      "1                                                NaN   \n",
      "2  viewing. listening. dancing. talking. drinking...   \n",
      "3                                                NaN   \n",
      "4                                                NaN   \n",
      "\n",
      "                                              essay8  \\\n",
      "0  i am new to california and looking for someone...   \n",
      "1  i am very open and will share just about anyth...   \n",
      "2  when i was five years old, i was known as \"the...   \n",
      "3                                                NaN   \n",
      "4                                                NaN   \n",
      "\n",
      "                                              essay9  \n",
      "0  you want to be swept off your feet! you are ti...  \n",
      "1                                                NaN  \n",
      "2  you are bright, open, intense, silly, ironic, ...  \n",
      "3                              you feel so inclined.  \n",
      "4                                                NaN  \n",
      "\n",
      "[5 rows x 31 columns]\n"
     ]
    }
   ],
   "source": [
    "print(df.head()) \n",
    "# I put this in a separate cell because sometimes I like to run the other four without this one. "
   ]
  },
  {
   "cell_type": "markdown",
   "id": "98143232",
   "metadata": {},
   "source": [
    "### Checking what the possible values of sex variable are"
   ]
  },
  {
   "cell_type": "code",
   "execution_count": 4,
   "id": "005996d5",
   "metadata": {},
   "outputs": [
    {
     "name": "stdout",
     "output_type": "stream",
     "text": [
      "['m' 'f']\n"
     ]
    }
   ],
   "source": [
    "print(df.sex.unique())"
   ]
  },
  {
   "cell_type": "markdown",
   "id": "36ee0252",
   "metadata": {},
   "source": [
    "### Check for duplicates"
   ]
  },
  {
   "cell_type": "code",
   "execution_count": 5,
   "id": "f8768ac5",
   "metadata": {},
   "outputs": [
    {
     "name": "stdout",
     "output_type": "stream",
     "text": [
      "False    59946\n",
      "dtype: int64\n"
     ]
    }
   ],
   "source": [
    "duplicates = df.duplicated()\n",
    "print(duplicates.value_counts())"
   ]
  },
  {
   "cell_type": "markdown",
   "id": "78ed7815",
   "metadata": {},
   "source": [
    "There are no duplicates."
   ]
  },
  {
   "cell_type": "markdown",
   "id": "2b59af7b",
   "metadata": {},
   "source": [
    "### Check for missing"
   ]
  },
  {
   "cell_type": "code",
   "execution_count": 6,
   "id": "b999c878",
   "metadata": {},
   "outputs": [
    {
     "name": "stdout",
     "output_type": "stream",
     "text": [
      "True\n",
      "age                0\n",
      "status             0\n",
      "sex                0\n",
      "orientation        0\n",
      "body_type       5296\n",
      "diet           24395\n",
      "drinks          2985\n",
      "drugs          14080\n",
      "education       6628\n",
      "ethnicity       5680\n",
      "height             3\n",
      "income             0\n",
      "job             8198\n",
      "last_online        0\n",
      "location           0\n",
      "offspring      35561\n",
      "pets           19921\n",
      "religion       20226\n",
      "sign           11056\n",
      "smokes          5512\n",
      "speaks            50\n",
      "essay0          5488\n",
      "essay1          7572\n",
      "essay2          9638\n",
      "essay3         11476\n",
      "essay4         10537\n",
      "essay5         10850\n",
      "essay6         13771\n",
      "essay7         12451\n",
      "essay8         19225\n",
      "essay9         12603\n",
      "dtype: int64\n"
     ]
    }
   ],
   "source": [
    "# This tells us if there are null values somewhere in the df\n",
    "print(df.isnull().values.any())\n",
    "\n",
    "# This prints out the sum of null values by column \n",
    "print(df.isnull().sum())"
   ]
  },
  {
   "cell_type": "markdown",
   "id": "7ceca722",
   "metadata": {},
   "source": [
    "There are misssing values in some columns, and I will address it later/as it comes up for analyses."
   ]
  },
  {
   "cell_type": "markdown",
   "id": "9c7eb7db",
   "metadata": {},
   "source": [
    "### Income "
   ]
  },
  {
   "cell_type": "code",
   "execution_count": 7,
   "id": "034cccfc",
   "metadata": {},
   "outputs": [
    {
     "name": "stdout",
     "output_type": "stream",
     "text": [
      "0\n",
      "13\n",
      "[     -1   80000   20000   40000   30000   50000   60000 1000000  150000\n",
      "  100000  500000   70000  250000]\n",
      "col_0     count\n",
      "income         \n",
      "-1        48442\n",
      " 20000     2952\n",
      " 30000     1048\n",
      " 40000     1005\n",
      " 50000      975\n",
      " 60000      736\n",
      " 70000      707\n",
      " 80000     1111\n",
      " 100000    1621\n",
      " 150000     631\n",
      " 250000     149\n",
      " 500000      48\n",
      " 1000000    521\n",
      "80.80939512227671\n",
      "11504\n"
     ]
    }
   ],
   "source": [
    "# Explore the income variable here\n",
    "print(df.income.isnull().sum())\n",
    "# While this tells us there are no missing in income, -1 indicates the person chose not to provide income\n",
    "\n",
    "print(df.income.nunique())\n",
    "print(df.income.unique())\n",
    "# 0ne-way freq table of income\n",
    "print(pd.crosstab(index=df.income, columns='count'))\n",
    "\n",
    "# Percent -1 AKA missing\n",
    "print((48442/59946)*100)\n",
    "\n",
    "# Count of rows where income != -1\n",
    "print(59946 - 48442)"
   ]
  },
  {
   "cell_type": "markdown",
   "id": "769bd658",
   "metadata": {},
   "source": [
    "While print(df.income.isnull().sum()) tells us there are no missing income values, -1 indicates the person chose not to provide an income value ([via okcupid_codebook_revised.txt](https://github.com/rudeboybert/JSE_OkCupid/blob/master/okcupid_codebook_revised.txt)).\n",
    "We can consider -1 values as missing values. \n",
    "From the one-way frequency table of income, we can see that 80% of respondents did not provide an income value. So the income variable is missing ~80% of responses. This makes the income variable less useful. \n",
    "\n",
    "There are situations where I could justify replacing missing numerical data with an average or some other value, but replacing 80% of income data with fill-ins for missing values will affect the integrity of the data. I don't think anything usefull would be gained from such an endeavor.\n",
    "\n",
    "I can do income-related analyses with the ~20% of respondents who did provide an income value, but I cannot use these analyses to make statements about the entire 59946 respondents as a whole. I will do analyses with the ~20% of respondents who did provide an income value for the purpose of demonstrating my quantitative data analysis skills. (e.g. a histogram of income responses)\n",
    "\n",
    "Note that the income responses are already discrete as opposed to continuous. \n",
    "\n",
    "For the record, as an OKCupid user (in 2014 but not in 2015), I have no recollection of OKCupid ever asking for income data, but perhaps I just forgot or overlooked that question.\n",
    "\n",
    "Count of rows where income != -1 is 11504"
   ]
  },
  {
   "cell_type": "markdown",
   "id": "157452ba",
   "metadata": {},
   "source": [
    "#### Create a new dataframe that has only the rows where income != -1"
   ]
  },
  {
   "cell_type": "code",
   "execution_count": 8,
   "id": "d93402ab",
   "metadata": {
    "scrolled": false
   },
   "outputs": [
    {
     "name": "stdout",
     "output_type": "stream",
     "text": [
      "<class 'pandas.core.frame.DataFrame'>\n",
      "Int64Index: 11504 entries, 1 to 59943\n",
      "Data columns (total 31 columns):\n",
      " #   Column       Non-Null Count  Dtype  \n",
      "---  ------       --------------  -----  \n",
      " 0   age          11504 non-null  int64  \n",
      " 1   status       11504 non-null  object \n",
      " 2   sex          11504 non-null  object \n",
      " 3   orientation  11504 non-null  object \n",
      " 4   body_type    10938 non-null  object \n",
      " 5   diet         7465 non-null   object \n",
      " 6   drinks       11277 non-null  object \n",
      " 7   drugs        9692 non-null   object \n",
      " 8   education    10783 non-null  object \n",
      " 9   ethnicity    10784 non-null  object \n",
      " 10  height       11504 non-null  float64\n",
      " 11  income       11504 non-null  int64  \n",
      " 12  job          11163 non-null  object \n",
      " 13  last_online  11504 non-null  object \n",
      " 14  location     11504 non-null  object \n",
      " 15  offspring    5612 non-null   object \n",
      " 16  pets         8717 non-null   object \n",
      " 17  religion     9019 non-null   object \n",
      " 18  sign         10136 non-null  object \n",
      " 19  smokes       10973 non-null  object \n",
      " 20  speaks       11499 non-null  object \n",
      " 21  essay0       10601 non-null  object \n",
      " 22  essay1       10283 non-null  object \n",
      " 23  essay2       9982 non-null   object \n",
      " 24  essay3       9687 non-null   object \n",
      " 25  essay4       9604 non-null   object \n",
      " 26  essay5       9559 non-null   object \n",
      " 27  essay6       9203 non-null   object \n",
      " 28  essay7       9472 non-null   object \n",
      " 29  essay8       8420 non-null   object \n",
      " 30  essay9       9491 non-null   object \n",
      "dtypes: float64(1), int64(2), object(28)\n",
      "memory usage: 2.8+ MB\n",
      "None\n",
      "11504\n",
      "Index(['age', 'status', 'sex', 'orientation', 'body_type', 'diet', 'drinks',\n",
      "       'drugs', 'education', 'ethnicity', 'height', 'income', 'job',\n",
      "       'last_online', 'location', 'offspring', 'pets', 'religion', 'sign',\n",
      "       'smokes', 'speaks', 'essay0', 'essay1', 'essay2', 'essay3', 'essay4',\n",
      "       'essay5', 'essay6', 'essay7', 'essay8', 'essay9'],\n",
      "      dtype='object')\n",
      "age              int64\n",
      "status          object\n",
      "sex             object\n",
      "orientation     object\n",
      "body_type       object\n",
      "diet            object\n",
      "drinks          object\n",
      "drugs           object\n",
      "education       object\n",
      "ethnicity       object\n",
      "height         float64\n",
      "income           int64\n",
      "job             object\n",
      "last_online     object\n",
      "location        object\n",
      "offspring       object\n",
      "pets            object\n",
      "religion        object\n",
      "sign            object\n",
      "smokes          object\n",
      "speaks          object\n",
      "essay0          object\n",
      "essay1          object\n",
      "essay2          object\n",
      "essay3          object\n",
      "essay4          object\n",
      "essay5          object\n",
      "essay6          object\n",
      "essay7          object\n",
      "essay8          object\n",
      "essay9          object\n",
      "dtype: object\n"
     ]
    }
   ],
   "source": [
    "# Create a new dataframe that has only the rows where income != -1\n",
    "df_hasincome = df[df.income != -1]\n",
    "print(df_hasincome.info())\n",
    "print(len(df_hasincome.age))\n",
    "print(df_hasincome.columns)\n",
    "print(df_hasincome.dtypes)"
   ]
  },
  {
   "cell_type": "code",
   "execution_count": 9,
   "id": "10e66026",
   "metadata": {},
   "outputs": [
    {
     "name": "stdout",
     "output_type": "stream",
     "text": [
      "(df_hasincome.isnull().values.any())\n",
      "True\n",
      "(df_hasincome.isnull().sum())\n",
      "age               0\n",
      "status            0\n",
      "sex               0\n",
      "orientation       0\n",
      "body_type       566\n",
      "diet           4039\n",
      "drinks          227\n",
      "drugs          1812\n",
      "education       721\n",
      "ethnicity       720\n",
      "height            0\n",
      "income            0\n",
      "job             341\n",
      "last_online       0\n",
      "location          0\n",
      "offspring      5892\n",
      "pets           2787\n",
      "religion       2485\n",
      "sign           1368\n",
      "smokes          531\n",
      "speaks            5\n",
      "essay0          903\n",
      "essay1         1221\n",
      "essay2         1522\n",
      "essay3         1817\n",
      "essay4         1900\n",
      "essay5         1945\n",
      "essay6         2301\n",
      "essay7         2032\n",
      "essay8         3084\n",
      "essay9         2013\n",
      "dtype: int64\n"
     ]
    }
   ],
   "source": [
    "# This tells us there are null values somewhere in the df\n",
    "print(\"(df_hasincome.isnull().values.any())\")\n",
    "print(df_hasincome.isnull().values.any())\n",
    "\n",
    "# This prints out the sum of null values by column \n",
    "print(\"(df_hasincome.isnull().sum())\")\n",
    "print(df_hasincome.isnull().sum())"
   ]
  },
  {
   "cell_type": "markdown",
   "id": "404a7c3f",
   "metadata": {},
   "source": [
    "Fun thing: Noticed the 3 people for whom a response to height was missing were not included in this data set <br>"
   ]
  },
  {
   "cell_type": "code",
   "execution_count": 10,
   "id": "4e665904",
   "metadata": {},
   "outputs": [
    {
     "name": "stdout",
     "output_type": "stream",
     "text": [
      "12\n",
      "[  80000   20000   40000   30000   50000   60000 1000000  150000  100000\n",
      "  500000   70000  250000]\n",
      "col_0    count\n",
      "income        \n",
      "20000     2952\n",
      "30000     1048\n",
      "40000     1005\n",
      "50000      975\n",
      "60000      736\n",
      "70000      707\n",
      "80000     1111\n",
      "100000    1621\n",
      "150000     631\n",
      "250000     149\n",
      "500000      48\n",
      "1000000    521\n"
     ]
    }
   ],
   "source": [
    "print(df_hasincome.income.nunique())\n",
    "print(df_hasincome.income.unique())\n",
    "# 0ne-way freq table of income\n",
    "print(pd.crosstab(index=df_hasincome.income, columns='count'))"
   ]
  },
  {
   "cell_type": "markdown",
   "id": "a5f87a6c",
   "metadata": {},
   "source": [
    "I wonder if the income distribution of respondents is patterned similarly to that of the San Francisco income distribution at the time of collection. I'm putting this here because it is a thought I had at this point in the analysis, and it's my analysis. I would need to confirm the year of the data collection. I think Kaggle said 2015, but the data owner GitHub said \"2010s\". I will have to search data owner GitHub for a year later. "
   ]
  },
  {
   "cell_type": "markdown",
   "id": "0f98fc8c",
   "metadata": {},
   "source": [
    "Maybe it is because it is late and I am tired, but now I'm wondering if since the income data is already binned, is it considered categorical? Would a hisogram be appropriate? This is definitely me being tired and a sign that it is time for bed. "
   ]
  },
  {
   "cell_type": "markdown",
   "id": "40f35e10",
   "metadata": {},
   "source": [
    "### Notes to self for later\n",
    "\n",
    "Best rounding practices? <br>"
   ]
  },
  {
   "cell_type": "markdown",
   "id": "81daca24",
   "metadata": {},
   "source": [
    "### Possible things I can do with data:\n",
    "\n",
    "make sure you're using the words \"value\" and \"variable\" right <br>\n",
    "\n",
    "deal with missing values <br>\n",
    "\n",
    "1. split the sex column into two columns: male and female OR I change the sex column to be male = 1 femaile = 0\n",
    "2. maybe take advantage of age being a number to do some quantitative analyses \n",
    "3. make demographics tables (including treating age as a categorical variable)\n",
    "4. I can potentially do quantitative analyses with income \n",
    "5. This is your reminder to ADD HYPERLINKS TO read_me.md LATER <br>\n",
    "to be continued"
   ]
  },
  {
   "cell_type": "code",
   "execution_count": null,
   "id": "11fc2264",
   "metadata": {},
   "outputs": [],
   "source": []
  }
 ],
 "metadata": {
  "kernelspec": {
   "display_name": "Python 3",
   "language": "python",
   "name": "python3"
  },
  "language_info": {
   "codemirror_mode": {
    "name": "ipython",
    "version": 3
   },
   "file_extension": ".py",
   "mimetype": "text/x-python",
   "name": "python",
   "nbconvert_exporter": "python",
   "pygments_lexer": "ipython3",
   "version": "3.9.5"
  }
 },
 "nbformat": 4,
 "nbformat_minor": 5
}
