{
 "cells": [
  {
   "cell_type": "code",
   "execution_count": null,
   "id": "5827aebb",
   "metadata": {},
   "outputs": [],
   "source": [
    "import pandas as pd\n",
    "import numpy as np\n",
    "import matplotlib as plt\n",
    "import seaborn as sns\n",
    "\n",
    "df = pd.read_csv('../original_data/okcupid/okcupid_profiles.csv')"
   ]
  },
  {
   "cell_type": "code",
   "execution_count": null,
   "id": "23912d47",
   "metadata": {},
   "outputs": [],
   "source": [
    "# Do I need to reset the index? Is there an index? \n",
    "# I don't think I need to reset the index because there is not an index column in the csv, so pd will add one upon reading"
   ]
  },
  {
   "cell_type": "markdown",
   "id": "e3a09081",
   "metadata": {},
   "source": [
    "Best rounding practices? "
   ]
  },
  {
   "cell_type": "code",
   "execution_count": null,
   "id": "3e3f190d",
   "metadata": {},
   "outputs": [],
   "source": [
    "print(df.info())\n",
    "print(len(df.age))\n",
    "print(df.columns)\n",
    "print(df.dtypes)"
   ]
  },
  {
   "cell_type": "code",
   "execution_count": null,
   "id": "3a8649a4",
   "metadata": {},
   "outputs": [],
   "source": [
    "print(df.head())"
   ]
  },
  {
   "cell_type": "code",
   "execution_count": null,
   "id": "005996d5",
   "metadata": {},
   "outputs": [],
   "source": [
    "print(df.sex.unique())"
   ]
  },
  {
   "cell_type": "code",
   "execution_count": null,
   "id": "f8768ac5",
   "metadata": {},
   "outputs": [],
   "source": [
    "# Check for duplicates\n",
    "duplicates = df.duplicated()\n",
    "print(duplicates.value_counts())\n",
    "# There are no duplicates"
   ]
  },
  {
   "cell_type": "code",
   "execution_count": null,
   "id": "b999c878",
   "metadata": {},
   "outputs": [],
   "source": [
    "# Check for missing\n",
    "#this tells us there are null values somewhere in the df\n",
    "print(df.isnull().values.any())\n",
    "\n",
    "# this prints out the sum of null values by column \n",
    "print(df.isnull().sum())\n",
    "\n",
    "# There are misssing values in some columns, and I will address it later"
   ]
  },
  {
   "cell_type": "markdown",
   "id": "9c7eb7db",
   "metadata": {},
   "source": [
    "### Income "
   ]
  },
  {
   "cell_type": "code",
   "execution_count": null,
   "id": "034cccfc",
   "metadata": {},
   "outputs": [],
   "source": [
    "# Explore the income variable here\n",
    "print(df.income.isnull().sum())\n",
    "# While this tells us there are no missing in income, -1 indicates the person chose not to provide income\n",
    "\n",
    "print(df.income.nunique())\n",
    "print(df.income.unique())\n",
    "# 0ne-way freq table of income\n",
    "print(pd.crosstab(index=df.income, columns='count'))\n",
    "\n",
    "print((48442/59946)*100)"
   ]
  },
  {
   "cell_type": "markdown",
   "id": "769bd658",
   "metadata": {},
   "source": [
    "While print(df.income.isnull().sum()) tells us there are no missing income values, -1 indicates the person chose not to provide an income value ([via okcupid_codebook_revised.txt](https://github.com/rudeboybert/JSE_OkCupid/blob/master/okcupid_codebook_revised.txt)).\n",
    "We can consider -1 values as missing values. \n",
    "From the one-way frequency table of income, we can see that 80% of respondents did not provide an income value. So the income variable is missing ~80% of responses. This makes the income variable less useful. \n",
    "\n",
    "There are situations where I could justify replacing missing numerical data with an average or some other value, but replacing 80% of income data with fill-ins for missing values will affect the integrity of the data. I don't think anything usefull would be gained from such an endeavor.\n",
    "\n",
    "I can do income-related analyses with the ~20% of respondents who did provide an income value, but I cannot use these analyses to make statements about the entire 59946 respondents as a whole. I will do analyses with the ~20% of respondents who did provide an income value for the purpose of demonstrating my quantitative data analysis skills. (e.g. a histogram of income responses)\n",
    "\n",
    "Note that the income responses are already discrete as opposed to continuous. \n",
    "\n",
    "For the record, as an OKCupid user (in 2014 but not in 2015), I have no recollection of OKCupid ever asking for income data, but perhaps I just forgot or overlooked that question."
   ]
  },
  {
   "cell_type": "code",
   "execution_count": null,
   "id": "f8ca60f2",
   "metadata": {},
   "outputs": [],
   "source": [
    "# possible things I can do with data:\n",
    "# make sure you're using the words \"value\" and \"variable\" right\n",
    "# do print(df.info())\n",
    "# check for missing values\n",
    "# check for duplicates\n",
    "# 1) split the sex column into two columns: male and female OR I change the sex column to be male = 1 femaile = 0\n",
    "# 2) maybe take advantage of age being a number to do some quantitative analyses \n",
    "# 3) make demographics tables (including treating age as a categorical variable)\n",
    "# 4) I can potentially do quantitative analyses with income \n",
    "# to be continued"
   ]
  }
 ],
 "metadata": {
  "kernelspec": {
   "display_name": "Python 3",
   "language": "python",
   "name": "python3"
  },
  "language_info": {
   "codemirror_mode": {
    "name": "ipython",
    "version": 3
   },
   "file_extension": ".py",
   "mimetype": "text/x-python",
   "name": "python",
   "nbconvert_exporter": "python",
   "pygments_lexer": "ipython3",
   "version": "3.9.5"
  }
 },
 "nbformat": 4,
 "nbformat_minor": 5
}
