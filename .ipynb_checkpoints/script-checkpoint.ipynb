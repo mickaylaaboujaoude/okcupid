{
 "cells": [
  {
   "cell_type": "markdown",
   "id": "97de505c",
   "metadata": {},
   "source": [
    "### Import Python packages and read csv in to Pandas dataframe"
   ]
  },
  {
   "cell_type": "code",
   "execution_count": null,
   "id": "5827aebb",
   "metadata": {},
   "outputs": [],
   "source": [
    "import pandas as pd\n",
    "import numpy as np\n",
    "import matplotlib as plt\n",
    "import seaborn as sns\n",
    "\n",
    "df = pd.read_csv('../original_data/okcupid/okcupid_profiles.csv')\n",
    "#df = pd.read_csv('../original_data/okcupid/okcupid_profiles.csv', index_col = False)\n",
    "\n",
    "# Do not do this one (index_col =0). It removes age, etc.\n",
    "# I don't remember the details. Just don't use it in this context\n",
    "#df = pd.read_csv('../original_data/okcupid/okcupid_profiles.csv', index_col = 0)"
   ]
  },
  {
   "cell_type": "markdown",
   "id": "772ddbb1",
   "metadata": {},
   "source": [
    "### On the index\n"
   ]
  },
  {
   "cell_type": "markdown",
   "id": "bc6204a3",
   "metadata": {},
   "source": [
    "###### Initially (days ago):\n",
    "I don't think I need to reset the index because there is not an index column in the csv, so pd will add one upon reading.\n",
    "\n",
    "###### Today 10/1/21 2:45pm ish\n",
    "I left off messing around with index of the df. I noticed the df doesn't have an \"id\" column, which might be nice for groupby so i was trying to make one\n",
    "\n",
    "I think the index exists regardless of whether there is a literal column in the dataframe for the index?\n",
    "\n",
    "https://pandas.pydata.org/pandas-docs/dev/reference/indexing.html\n",
    "\n",
    "https://towardsdatascience.com/pandas-index-explained-b131beaf6f7b\n",
    "\n",
    "While reading the towardsdatacience article, I noticed they were getting these pretty table output when they called dataframe.head() in their notebook. So now I'm learning how to get the pretty table output, and I think it might have something to do with IPython. So I'm gonna work on understanding IPython now. "
   ]
  },
  {
   "cell_type": "code",
   "execution_count": null,
   "id": "5892daac",
   "metadata": {},
   "outputs": [],
   "source": [
    "print(\"Shape of data{}\".format(df.shape))"
   ]
  },
  {
   "cell_type": "markdown",
   "id": "e3a09081",
   "metadata": {},
   "source": [
    "### General dataframe info"
   ]
  },
  {
   "cell_type": "code",
   "execution_count": null,
   "id": "3e3f190d",
   "metadata": {},
   "outputs": [],
   "source": [
    "print(df.info())\n",
    "print(len(df.drugs))\n",
    "#print(df.columns)\n",
    "#print(df.dtypes)"
   ]
  },
  {
   "cell_type": "code",
   "execution_count": null,
   "id": "3a8649a4",
   "metadata": {},
   "outputs": [],
   "source": [
    "print(df.head()) \n",
    "# I put this in a separate cell because sometimes I like to run commands without this one. "
   ]
  },
  {
   "cell_type": "markdown",
   "id": "98143232",
   "metadata": {},
   "source": [
    "### Checking what the possible values of sex variable are"
   ]
  },
  {
   "cell_type": "code",
   "execution_count": null,
   "id": "005996d5",
   "metadata": {},
   "outputs": [],
   "source": [
    "print(df.sex.unique())"
   ]
  },
  {
   "cell_type": "markdown",
   "id": "36ee0252",
   "metadata": {},
   "source": [
    "### Check for duplicates"
   ]
  },
  {
   "cell_type": "code",
   "execution_count": null,
   "id": "f8768ac5",
   "metadata": {},
   "outputs": [],
   "source": [
    "duplicates = df.duplicated()\n",
    "print(duplicates.value_counts())"
   ]
  },
  {
   "cell_type": "markdown",
   "id": "78ed7815",
   "metadata": {},
   "source": [
    "There are no duplicates."
   ]
  },
  {
   "cell_type": "markdown",
   "id": "2b59af7b",
   "metadata": {},
   "source": [
    "### Check for missing"
   ]
  },
  {
   "cell_type": "code",
   "execution_count": null,
   "id": "b999c878",
   "metadata": {},
   "outputs": [],
   "source": [
    "# I can see from df.info() that some variables but missing values, but I prefer to also use these commands to check\n",
    "# This tells us if there are null values somewhere in the df\n",
    "print(df.isnull().values.any())\n",
    "\n",
    "# This prints out the sum of null values by column \n",
    "print(df.isnull().sum())"
   ]
  },
  {
   "cell_type": "markdown",
   "id": "7ceca722",
   "metadata": {},
   "source": [
    "There are misssing values in some columns, and I will address it later/as it comes up for analyses."
   ]
  },
  {
   "cell_type": "markdown",
   "id": "4dcfe9cd",
   "metadata": {},
   "source": [
    "### Messing Around"
   ]
  },
  {
   "cell_type": "code",
   "execution_count": null,
   "id": "dfc90584",
   "metadata": {},
   "outputs": [],
   "source": [
    "print(df['age'].nunique())\n",
    "print(df['age'].dtypes)\n",
    "print(df['age'].min())\n",
    "print(df['age'].max())\n",
    "# the max age is 110... someone was probably messing around \n",
    "print(pd.crosstab(index=df['age'], columns='count'))\n",
    "print()"
   ]
  },
  {
   "cell_type": "markdown",
   "id": "9c7eb7db",
   "metadata": {},
   "source": [
    "### Income "
   ]
  },
  {
   "cell_type": "code",
   "execution_count": null,
   "id": "034cccfc",
   "metadata": {},
   "outputs": [],
   "source": [
    "# Explore the income variable here\n",
    "print(df.income.isnull().sum())\n",
    "# While this tells us there are no missing in income, -1 indicates the person chose not to provide income\n",
    "\n",
    "print(df.income.nunique())\n",
    "print(df.income.unique())\n",
    "# 0ne-way freq table of income\n",
    "print(pd.crosstab(index=df.income, columns='count'))\n",
    "\n",
    "# Percent -1 AKA missing\n",
    "print((48442/59946)*100)\n",
    "\n",
    "# Count of rows where income != -1\n",
    "print(59946 - 48442)"
   ]
  },
  {
   "cell_type": "markdown",
   "id": "769bd658",
   "metadata": {},
   "source": [
    "While print(df.income.isnull().sum()) tells us there are no missing income values, -1 indicates the person chose not to provide an income value ([via okcupid_codebook_revised.txt](https://github.com/rudeboybert/JSE_OkCupid/blob/master/okcupid_codebook_revised.txt)).\n",
    "We can consider -1 values as missing values. \n",
    "From the one-way frequency table of income, we can see that 80% of respondents did not provide an income value. So the income variable is missing ~80% of responses. This makes the income variable less useful. \n",
    "\n",
    "There are situations where I could justify replacing missing numerical data with an average or some other value, but replacing 80% of income data with fill-ins for missing values will affect the integrity of the data. I don't think anything usefull would be gained from such an endeavor.\n",
    "\n",
    "I can do income-related analyses with the ~20% of respondents who did provide an income value, but I cannot use these analyses to make statements about the entire 59946 respondents as a whole. I will do analyses with the ~20% of respondents who did provide an income value for the purpose of demonstrating my quantitative data analysis skills. (e.g. a histogram of income responses)\n",
    "\n",
    "Note that the income responses are already discrete as opposed to continuous. \n",
    "\n",
    "For the record, as an OKCupid user (in 2014 but not in 2015), I have no recollection of OKCupid ever asking for income data, but perhaps I just forgot or overlooked that question.\n",
    "\n",
    "Count of rows where income != -1 is 11504"
   ]
  },
  {
   "cell_type": "markdown",
   "id": "157452ba",
   "metadata": {},
   "source": [
    "#### Create a new dataframe that has only the rows where income != -1"
   ]
  },
  {
   "cell_type": "code",
   "execution_count": null,
   "id": "d93402ab",
   "metadata": {
    "scrolled": false
   },
   "outputs": [],
   "source": [
    "# Create a new dataframe that has only the rows where income != -1\n",
    "df_hasincome = df[df.income != -1]\n",
    "print(df_hasincome.info())\n",
    "print(len(df_hasincome.age))\n",
    "print(df_hasincome.columns)\n",
    "print(df_hasincome.dtypes)"
   ]
  },
  {
   "cell_type": "code",
   "execution_count": null,
   "id": "10e66026",
   "metadata": {},
   "outputs": [],
   "source": [
    "# This tells us there are null values somewhere in the df\n",
    "print(\"(df_hasincome.isnull().values.any())\")\n",
    "print(df_hasincome.isnull().values.any())\n",
    "\n",
    "# This prints out the sum of null values by column \n",
    "print(\"(df_hasincome.isnull().sum())\")\n",
    "print(df_hasincome.isnull().sum())"
   ]
  },
  {
   "cell_type": "markdown",
   "id": "404a7c3f",
   "metadata": {},
   "source": [
    "Fun thing: Noticed the 3 people for whom a response to height was missing were not included in this data set <br>"
   ]
  },
  {
   "cell_type": "code",
   "execution_count": null,
   "id": "4e665904",
   "metadata": {},
   "outputs": [],
   "source": [
    "print(df_hasincome.income.nunique())\n",
    "print(df_hasincome.income.unique())\n",
    "# 0ne-way freq table of income\n",
    "print(pd.crosstab(index=df_hasincome.income, columns='count'))"
   ]
  },
  {
   "cell_type": "markdown",
   "id": "a5f87a6c",
   "metadata": {},
   "source": [
    "I wonder if the income distribution of respondents is patterned similarly to that of the San Francisco income distribution at the time of collection. I'm putting this here because it is a thought I had at this point in the analysis, and it's my analysis. I would need to confirm the year of the data collection. I think Kaggle said 2015, but the data owner GitHub said \"2010s\". I will have to search data owner GitHub for a year later. "
   ]
  },
  {
   "cell_type": "markdown",
   "id": "0f98fc8c",
   "metadata": {},
   "source": [
    "Maybe it is because it is late and I am tired, but now I'm wondering if since the income data is already binned, is it considered categorical? Would a hisogram be appropriate? This is definitely me being tired and a sign that it is time for bed. "
   ]
  },
  {
   "cell_type": "markdown",
   "id": "40f35e10",
   "metadata": {},
   "source": [
    "### Notes to self for later\n",
    "\n",
    "Best rounding practices? <br>"
   ]
  },
  {
   "cell_type": "markdown",
   "id": "81daca24",
   "metadata": {},
   "source": [
    "### Possible things I can do with data:\n",
    "\n",
    "make sure you're using the words \"value\" and \"variable\" right <br>\n",
    "\n",
    "deal with missing values <br>\n",
    "\n",
    "1. split the sex column into two columns: male and female OR I change the sex column to be male = 1 femaile = 0\n",
    "2. maybe take advantage of age being a number to do some quantitative analyses \n",
    "3. make demographics tables (including treating age as a categorical variable)\n",
    "4. I can potentially do quantitative analyses with income \n",
    "5. This is your reminder to ADD HYPERLINKS TO read_me.md LATER <br>\n",
    "to be continued"
   ]
  },
  {
   "cell_type": "code",
   "execution_count": null,
   "id": "11fc2264",
   "metadata": {},
   "outputs": [],
   "source": []
  }
 ],
 "metadata": {
  "kernelspec": {
   "display_name": "Python 3",
   "language": "python",
   "name": "python3"
  },
  "language_info": {
   "codemirror_mode": {
    "name": "ipython",
    "version": 3
   },
   "file_extension": ".py",
   "mimetype": "text/x-python",
   "name": "python",
   "nbconvert_exporter": "python",
   "pygments_lexer": "ipython3",
   "version": "3.9.5"
  }
 },
 "nbformat": 4,
 "nbformat_minor": 5
}
