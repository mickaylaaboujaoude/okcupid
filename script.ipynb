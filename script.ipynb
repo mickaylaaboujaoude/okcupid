{
 "cells": [
  {
   "cell_type": "code",
   "execution_count": null,
   "id": "5827aebb",
   "metadata": {},
   "outputs": [],
   "source": [
    "import pandas as pd\n",
    "import numpy as np\n",
    "import matplotlib as plt\n",
    "import seaborn as sns\n",
    "\n",
    "df = pd.read_csv('../original_data/okcupid/okcupid_profiles.csv')\n",
    "\n",
    "print(df.info())\n",
    "print(len(df.age))\n",
    "print(df.columns)\n",
    "print(df.dtypes)"
   ]
  },
  {
   "cell_type": "code",
   "execution_count": null,
   "id": "3a8649a4",
   "metadata": {},
   "outputs": [],
   "source": [
    "print(df.head())"
   ]
  },
  {
   "cell_type": "code",
   "execution_count": null,
   "id": "005996d5",
   "metadata": {},
   "outputs": [],
   "source": [
    "print(df.sex.unique())"
   ]
  },
  {
   "cell_type": "code",
   "execution_count": null,
   "id": "034cccfc",
   "metadata": {},
   "outputs": [],
   "source": [
    "# I was going to explore the income variable here"
   ]
  },
  {
   "cell_type": "code",
   "execution_count": null,
   "id": "f8ca60f2",
   "metadata": {},
   "outputs": [],
   "source": [
    "# possible things I can do with data:\n",
    "# make sure you're using the words \"value\" and \"variable\" right\n",
    "# do print(df.info())\n",
    "# check for missing values\n",
    "# check for duplicates\n",
    "# 1) split the sex column into two columns: male and female OR I change the sex column to be male = 1 femaile = 0\n",
    "# 2) maybe take advantage of age being a number to do some quantitative analyses \n",
    "# 3) make demographics tables (including treating age as a categorical variable)\n",
    "# 4) I can potentially do quantitative analyses with income \n",
    "# to be continued"
   ]
  }
 ],
 "metadata": {
  "kernelspec": {
   "display_name": "Python 3",
   "language": "python",
   "name": "python3"
  },
  "language_info": {
   "codemirror_mode": {
    "name": "ipython",
    "version": 3
   },
   "file_extension": ".py",
   "mimetype": "text/x-python",
   "name": "python",
   "nbconvert_exporter": "python",
   "pygments_lexer": "ipython3",
   "version": "3.9.5"
  }
 },
 "nbformat": 4,
 "nbformat_minor": 5
}
